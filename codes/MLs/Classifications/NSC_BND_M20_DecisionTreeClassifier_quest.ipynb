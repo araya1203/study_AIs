{
 "cells": [
  {
   "cell_type": "markdown",
   "id": "eabc275a-c698-4403-934d-3479c6126e26",
   "metadata": {},
   "source": [
    "##### quest\n",
    "- NSC_BND_M20 연속형 데이터 사용\n",
    "- 목표변수:SICK_SYM1, 설명변수 5개 사용\n",
    "- DecisionTreeClassifier 전처리, 학습, 평가\n",
    "- option : SICK_SYM1 항목은 8개만 선택"
   ]
  },
  {
   "cell_type": "markdown",
   "id": "2b3fac96-b509-4ecb-927e-5f2105603ae7",
   "metadata": {},
   "source": [
    "### 지도학습"
   ]
  },
  {
   "cell_type": "markdown",
   "id": "c6922ac8-ec3b-483b-82ea-40803d30499e",
   "metadata": {},
   "source": [
    "##### 분류 - 다항분류\n",
    " - 목적변수의 범주가 2개 이상인것"
   ]
  },
  {
   "cell_type": "code",
   "execution_count": null,
   "id": "2add4404-49e0-427e-a008-d70be11403d0",
   "metadata": {},
   "outputs": [],
   "source": [
    "import pymongo as mg\n",
    "import pandas as pd "
   ]
  },
  {
   "cell_type": "code",
   "execution_count": null,
   "id": "b62a9fd5-c7dc-4da8-9baf-338b2df5cd3a",
   "metadata": {},
   "outputs": [],
   "source": [
    "client = mg.MongoClient(host='mongodb://localhost:27017')\n",
    "database = client['db_NHIS'] #Database 선택\n",
    "collection = database['Join Collection NSC2_BND_M20'] # collection 선택\n",
    "cursor = collection.find({})\n",
    "list_M20 = list(cursor) # casting\n",
    "df_M20 = pd.DataFrame(list_M20) \n",
    "df_M20[:2]"
   ]
  },
  {
   "cell_type": "code",
   "execution_count": null,
   "id": "d000549a-6846-4ae7-ae74-1a8413de001b",
   "metadata": {},
   "outputs": [],
   "source": [
    "df_M20.to_csv('../../../datasets/Join Collection NSC2_BND_M20.csv') "
   ]
  },
  {
   "cell_type": "markdown",
   "id": "d0bf1c14-00c0-4aea-9194-bcd9aab32653",
   "metadata": {},
   "source": [
    "##### 전처리\n",
    "- 목표변수 : 'SICK_SYM1'\n",
    "- 설명변수 : 'OPRTN_YN','TOT_PRSC_DD_CNT','ED_RC_TOT_AMT', 'EDC_SBA', 'EDC_INSUR_BRDN_AMT'"
   ]
  },
  {
   "cell_type": "code",
   "execution_count": null,
   "id": "9e03310e-01cc-429b-9559-937571ce508f",
   "metadata": {},
   "outputs": [],
   "source": [
    "df_M20.columns"
   ]
  },
  {
   "cell_type": "code",
   "execution_count": null,
   "id": "a4735276-a353-4926-9379-ab026d84247c",
   "metadata": {},
   "outputs": [],
   "source": [
    "df_M20.info()"
   ]
  },
  {
   "cell_type": "code",
   "execution_count": null,
   "id": "a07ce0d2-54a6-4b19-8418-1632ce75d09a",
   "metadata": {},
   "outputs": [],
   "source": [
    "df_M20_extract = df_M20[['SICK_SYM1','OPRTN_YN','TOT_PRSC_DD_CNT','ED_RC_TOT_AMT', 'EDC_SBA', 'EDC_INSUR_BRDN_AMT']]\n",
    "df_M20_extract.isnull().sum()"
   ]
  },
  {
   "cell_type": "code",
   "execution_count": null,
   "id": "6133ad09-6538-4454-8574-d4ec19527822",
   "metadata": {},
   "outputs": [],
   "source": [
    "\n",
    "df_M20_extract['SICK_SYM1'].value_counts()"
   ]
  },
  {
   "cell_type": "code",
   "execution_count": null,
   "id": "2bc72f9d-283b-48d4-a2a4-5f5ffdfbd303",
   "metadata": {},
   "outputs": [],
   "source": [
    "import re"
   ]
  },
  {
   "cell_type": "markdown",
   "id": "e3f2371a-731e-468b-aa9c-6bd878decc88",
   "metadata": {},
   "source": [
    "# 알파벳을 숫자로 변환하는 함수 정의\n",
    "def alphabet_to_number(s):\n",
    "    result = \"\"\n",
    "    for char in s:\n",
    "        if re.match(r'[A-Za-z]', char):\n",
    "            result += str(ord(char) - ord('A') + 1)\n",
    "        else:\n",
    "            result += char\n",
    "    return result"
   ]
  },
  {
   "cell_type": "markdown",
   "id": "c1f91c44-583a-4c38-8bee-864179fa1914",
   "metadata": {},
   "source": [
    "##### 정형화"
   ]
  },
  {
   "cell_type": "code",
   "execution_count": null,
   "id": "14975c7a-247a-4b97-aafd-1d66da9a52dd",
   "metadata": {},
   "outputs": [],
   "source": [
    "target_SICK = df_M20_extract['SICK_SYM1_tonumber'] #목표변수 \n",
    "features_SICK = df_M20_extract.drop(columns=['SICK_SYM1_tonumber','SICK_SYM1']) #설명변수 \n",
    "target_SICK.shape, features_SICK.shape"
   ]
  },
  {
   "cell_type": "markdown",
   "id": "336b55b5-bf96-4715-829f-e95ce761382a",
   "metadata": {},
   "source": [
    "##### 모델학습"
   ]
  },
  {
   "cell_type": "code",
   "execution_count": null,
   "id": "9a650680-cde5-42a5-a505-c23bd773a444",
   "metadata": {},
   "outputs": [],
   "source": [
    "from sklearn.tree import DecisionTreeClassifier\n",
    "model = DecisionTreeClassifier() #인스턴스화 \n",
    "model.fit(features_SICK, target_SICK) #모델 훈련"
   ]
  },
  {
   "cell_type": "code",
   "execution_count": null,
   "id": "15ce37c6-b43e-4f29-b162-c653205baf74",
   "metadata": {},
   "outputs": [],
   "source": [
    "import matplotlib.pyplot as plt\n",
    "from sklearn.tree import plot_tree"
   ]
  },
  {
   "cell_type": "code",
   "execution_count": null,
   "id": "aca899ba-668f-49fd-bd29-3298674a71d7",
   "metadata": {},
   "outputs": [],
   "source": [
    "features_SICK.columns.to_list()"
   ]
  },
  {
   "cell_type": "code",
   "execution_count": null,
   "id": "bcedf871-7373-4e97-9e98-d5adb1e347e8",
   "metadata": {},
   "outputs": [],
   "source": [
    "plot_tree(model, feature_names=features_SICK.columns.to_list(), filled=True) # filled=True\n",
    "plt.show()"
   ]
  },
  {
   "cell_type": "markdown",
   "id": "aaae2b1f-b5f9-4591-9408-1dac3d2e980f",
   "metadata": {},
   "source": [
    "##### 평가"
   ]
  },
  {
   "cell_type": "code",
   "execution_count": null,
   "id": "65210db9-5935-495e-8b66-4f0c3832a599",
   "metadata": {},
   "outputs": [],
   "source": [
    "target_prdict = model.predict(features_SICK)  #설명변수를 통해 목저변수의 값을 예측\n",
    "len(target_prdict)"
   ]
  },
  {
   "cell_type": "code",
   "execution_count": null,
   "id": "6f1fd423-7a11-446b-a72f-ad46af98b243",
   "metadata": {},
   "outputs": [],
   "source": [
    "from sklearn.metrics import accuracy_score\n",
    "accuracy_score(target_SICK, target_prdict) #실제값과 예측한 값을 비교를 통해 잘 예측했는지 평가"
   ]
  }
 ],
 "metadata": {
  "kernelspec": {
   "display_name": "Python 3 (ipykernel)",
   "language": "python",
   "name": "python3"
  },
  "language_info": {
   "codemirror_mode": {
    "name": "ipython",
    "version": 3
   },
   "file_extension": ".py",
   "mimetype": "text/x-python",
   "name": "python",
   "nbconvert_exporter": "python",
   "pygments_lexer": "ipython3",
   "version": "3.11.3"
  }
 },
 "nbformat": 4,
 "nbformat_minor": 5
}
